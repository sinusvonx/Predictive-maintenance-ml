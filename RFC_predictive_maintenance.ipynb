{
 "cells": [
  {
   "cell_type": "code",
   "execution_count": 1,
   "id": "d24bd537-43ca-4686-aabe-ca691c70733c",
   "metadata": {
    "scrolled": true
   },
   "outputs": [
    {
     "name": "stdout",
     "output_type": "stream",
     "text": [
      "Requirement already satisfied: xgboost in c:\\users\\kamde\\appdata\\local\\packages\\pythonsoftwarefoundation.python.3.11_qbz5n2kfra8p0\\localcache\\local-packages\\python311\\site-packages (3.1.0)\n",
      "Requirement already satisfied: numpy in c:\\users\\kamde\\appdata\\local\\packages\\pythonsoftwarefoundation.python.3.11_qbz5n2kfra8p0\\localcache\\local-packages\\python311\\site-packages (from xgboost) (2.3.2)\n",
      "Requirement already satisfied: scipy in c:\\users\\kamde\\appdata\\local\\packages\\pythonsoftwarefoundation.python.3.11_qbz5n2kfra8p0\\localcache\\local-packages\\python311\\site-packages (from xgboost) (1.16.1)\n",
      "Note: you may need to restart the kernel to use updated packages.\n"
     ]
    },
    {
     "name": "stderr",
     "output_type": "stream",
     "text": [
      "\n",
      "[notice] A new release of pip is available: 24.0 -> 25.2\n",
      "[notice] To update, run: C:\\Users\\kamde\\AppData\\Local\\Microsoft\\WindowsApps\\PythonSoftwareFoundation.Python.3.11_qbz5n2kfra8p0\\python.exe -m pip install --upgrade pip\n"
     ]
    }
   ],
   "source": [
    "pip install xgboost"
   ]
  },
  {
   "cell_type": "code",
   "execution_count": 26,
   "id": "41ae13c8-8e8c-4430-af1c-0a52980bd548",
   "metadata": {},
   "outputs": [],
   "source": [
    "import numpy as np\n",
    "import pandas as pd\n",
    "import seaborn as sns\n",
    "import matplotlib.pyplot as plt\n",
    "%matplotlib inline\n",
    "from sklearn.model_selection import train_test_split\n",
    "from sklearn.preprocessing import StandardScaler\n",
    "from sklearn.tree import DecisionTreeClassifier\n",
    "from sklearn.ensemble import RandomForestClassifier\n",
    "from sklearn.metrics import confusion_matrix, classification_report\n",
    "from xgboost import XGBClassifier\n",
    "from sklearn.model_selection import GridSearchCV"
   ]
  },
  {
   "cell_type": "code",
   "execution_count": 27,
   "id": "09a7cc97-c478-4cba-8932-116fcae0a111",
   "metadata": {},
   "outputs": [
    {
     "data": {
      "text/html": [
       "<div>\n",
       "<style scoped>\n",
       "    .dataframe tbody tr th:only-of-type {\n",
       "        vertical-align: middle;\n",
       "    }\n",
       "\n",
       "    .dataframe tbody tr th {\n",
       "        vertical-align: top;\n",
       "    }\n",
       "\n",
       "    .dataframe thead th {\n",
       "        text-align: right;\n",
       "    }\n",
       "</style>\n",
       "<table border=\"1\" class=\"dataframe\">\n",
       "  <thead>\n",
       "    <tr style=\"text-align: right;\">\n",
       "      <th></th>\n",
       "      <th>machineID</th>\n",
       "      <th>timestamp</th>\n",
       "      <th>temperature_C</th>\n",
       "      <th>pressure_bar</th>\n",
       "      <th>vibration_mm_s</th>\n",
       "      <th>runtime_hours</th>\n",
       "      <th>power_kW</th>\n",
       "      <th>torque_Nm</th>\n",
       "      <th>humidity_pct</th>\n",
       "      <th>oil_quality_score</th>\n",
       "      <th>...</th>\n",
       "      <th>fan_speed_rpm</th>\n",
       "      <th>cooling_rate_C_sec</th>\n",
       "      <th>ambient_temp_C</th>\n",
       "      <th>gas_flow_m3_h</th>\n",
       "      <th>dust_level_index</th>\n",
       "      <th>sensor_faults</th>\n",
       "      <th>voltage_fluctuation_pct</th>\n",
       "      <th>thermal_stress_index</th>\n",
       "      <th>maintenance_count</th>\n",
       "      <th>failure_within_30d</th>\n",
       "    </tr>\n",
       "  </thead>\n",
       "  <tbody>\n",
       "    <tr>\n",
       "      <th>0</th>\n",
       "      <td>7</td>\n",
       "      <td>2023-04-22 09:19:00</td>\n",
       "      <td>54.260939950283536</td>\n",
       "      <td>3.794329</td>\n",
       "      <td>0.7135498370363585</td>\n",
       "      <td>1385</td>\n",
       "      <td>197.533116</td>\n",
       "      <td>401.895893</td>\n",
       "      <td>61.901647</td>\n",
       "      <td>0.262071</td>\n",
       "      <td>...</td>\n",
       "      <td>1284.561440</td>\n",
       "      <td>2.472714</td>\n",
       "      <td>18.312136</td>\n",
       "      <td>67.365011</td>\n",
       "      <td>38.313966</td>\n",
       "      <td>0</td>\n",
       "      <td>1.145076</td>\n",
       "      <td>47.417483</td>\n",
       "      <td>6</td>\n",
       "      <td>1</td>\n",
       "    </tr>\n",
       "    <tr>\n",
       "      <th>1</th>\n",
       "      <td>20</td>\n",
       "      <td>2023-04-11 21:21:00</td>\n",
       "      <td>57.38757421363357</td>\n",
       "      <td>5.395100</td>\n",
       "      <td>0.6781258280768983</td>\n",
       "      <td>1563</td>\n",
       "      <td>194.372373</td>\n",
       "      <td>361.162653</td>\n",
       "      <td>44.962107</td>\n",
       "      <td>0.766424</td>\n",
       "      <td>...</td>\n",
       "      <td>1088.315771</td>\n",
       "      <td>2.276585</td>\n",
       "      <td>25.793010</td>\n",
       "      <td>76.168426</td>\n",
       "      <td>55.404987</td>\n",
       "      <td>0</td>\n",
       "      <td>1.089491</td>\n",
       "      <td>61.129212</td>\n",
       "      <td>8</td>\n",
       "      <td>1</td>\n",
       "    </tr>\n",
       "    <tr>\n",
       "      <th>2</th>\n",
       "      <td>15</td>\n",
       "      <td>2023-05-05 15:55:00</td>\n",
       "      <td>77.5913365508434</td>\n",
       "      <td>5.665597</td>\n",
       "      <td>0.6284855170646071</td>\n",
       "      <td>2291</td>\n",
       "      <td>173.281224</td>\n",
       "      <td>431.151665</td>\n",
       "      <td>57.022879</td>\n",
       "      <td>0.653272</td>\n",
       "      <td>...</td>\n",
       "      <td>1373.008888</td>\n",
       "      <td>2.008043</td>\n",
       "      <td>27.091075</td>\n",
       "      <td>84.735276</td>\n",
       "      <td>87.140786</td>\n",
       "      <td>0</td>\n",
       "      <td>1.408590</td>\n",
       "      <td>65.381609</td>\n",
       "      <td>2</td>\n",
       "      <td>1</td>\n",
       "    </tr>\n",
       "    <tr>\n",
       "      <th>3</th>\n",
       "      <td>11</td>\n",
       "      <td>2023-01-11 10:29:00</td>\n",
       "      <td>70.1533274126656</td>\n",
       "      <td>3.403232</td>\n",
       "      <td>0.6438901188009029</td>\n",
       "      <td>2033</td>\n",
       "      <td>189.216414</td>\n",
       "      <td>389.741541</td>\n",
       "      <td>42.732718</td>\n",
       "      <td>0.945167</td>\n",
       "      <td>...</td>\n",
       "      <td>1304.780556</td>\n",
       "      <td>3.004230</td>\n",
       "      <td>18.663026</td>\n",
       "      <td>77.816550</td>\n",
       "      <td>54.772326</td>\n",
       "      <td>0</td>\n",
       "      <td>1.324168</td>\n",
       "      <td>57.307158</td>\n",
       "      <td>6</td>\n",
       "      <td>1</td>\n",
       "    </tr>\n",
       "    <tr>\n",
       "      <th>4</th>\n",
       "      <td>8</td>\n",
       "      <td>2023-05-27 04:35:00</td>\n",
       "      <td>68.80044302686382</td>\n",
       "      <td>4.284320</td>\n",
       "      <td>0.6777050012403512</td>\n",
       "      <td>1927</td>\n",
       "      <td>138.813239</td>\n",
       "      <td>356.494690</td>\n",
       "      <td>60.025218</td>\n",
       "      <td>0.464947</td>\n",
       "      <td>...</td>\n",
       "      <td>1187.705465</td>\n",
       "      <td>2.658552</td>\n",
       "      <td>21.507138</td>\n",
       "      <td>79.121249</td>\n",
       "      <td>49.129455</td>\n",
       "      <td>1</td>\n",
       "      <td>1.322413</td>\n",
       "      <td>39.857238</td>\n",
       "      <td>6</td>\n",
       "      <td>1</td>\n",
       "    </tr>\n",
       "  </tbody>\n",
       "</table>\n",
       "<p>5 rows × 22 columns</p>\n",
       "</div>"
      ],
      "text/plain": [
       "   machineID            timestamp       temperature_C  pressure_bar  \\\n",
       "0          7  2023-04-22 09:19:00  54.260939950283536      3.794329   \n",
       "1         20  2023-04-11 21:21:00   57.38757421363357      5.395100   \n",
       "2         15  2023-05-05 15:55:00    77.5913365508434      5.665597   \n",
       "3         11  2023-01-11 10:29:00    70.1533274126656      3.403232   \n",
       "4          8  2023-05-27 04:35:00   68.80044302686382      4.284320   \n",
       "\n",
       "       vibration_mm_s  runtime_hours    power_kW   torque_Nm  humidity_pct  \\\n",
       "0  0.7135498370363585           1385  197.533116  401.895893     61.901647   \n",
       "1  0.6781258280768983           1563  194.372373  361.162653     44.962107   \n",
       "2  0.6284855170646071           2291  173.281224  431.151665     57.022879   \n",
       "3  0.6438901188009029           2033  189.216414  389.741541     42.732718   \n",
       "4  0.6777050012403512           1927  138.813239  356.494690     60.025218   \n",
       "\n",
       "   oil_quality_score  ...  fan_speed_rpm  cooling_rate_C_sec  ambient_temp_C  \\\n",
       "0           0.262071  ...    1284.561440            2.472714       18.312136   \n",
       "1           0.766424  ...    1088.315771            2.276585       25.793010   \n",
       "2           0.653272  ...    1373.008888            2.008043       27.091075   \n",
       "3           0.945167  ...    1304.780556            3.004230       18.663026   \n",
       "4           0.464947  ...    1187.705465            2.658552       21.507138   \n",
       "\n",
       "   gas_flow_m3_h  dust_level_index  sensor_faults  voltage_fluctuation_pct  \\\n",
       "0      67.365011         38.313966              0                 1.145076   \n",
       "1      76.168426         55.404987              0                 1.089491   \n",
       "2      84.735276         87.140786              0                 1.408590   \n",
       "3      77.816550         54.772326              0                 1.324168   \n",
       "4      79.121249         49.129455              1                 1.322413   \n",
       "\n",
       "   thermal_stress_index  maintenance_count  failure_within_30d  \n",
       "0             47.417483                  6                   1  \n",
       "1             61.129212                  8                   1  \n",
       "2             65.381609                  2                   1  \n",
       "3             57.307158                  6                   1  \n",
       "4             39.857238                  6                   1  \n",
       "\n",
       "[5 rows x 22 columns]"
      ]
     },
     "execution_count": 27,
     "metadata": {},
     "output_type": "execute_result"
    }
   ],
   "source": [
    "df = pd.read_csv(\"synthetic_predictive_maintenance_portfolio.csv\")\n",
    "df.head()"
   ]
  },
  {
   "cell_type": "code",
   "execution_count": 28,
   "id": "ed4edd37-bba3-45de-860c-ed58b9db20d6",
   "metadata": {
    "scrolled": true
   },
   "outputs": [
    {
     "name": "stdout",
     "output_type": "stream",
     "text": [
      "<class 'pandas.core.frame.DataFrame'>\n",
      "RangeIndex: 5000 entries, 0 to 4999\n",
      "Data columns (total 22 columns):\n",
      " #   Column                   Non-Null Count  Dtype  \n",
      "---  ------                   --------------  -----  \n",
      " 0   machineID                5000 non-null   int64  \n",
      " 1   timestamp                5000 non-null   object \n",
      " 2   temperature_C            5000 non-null   object \n",
      " 3   pressure_bar             5000 non-null   float64\n",
      " 4   vibration_mm_s           5000 non-null   object \n",
      " 5   runtime_hours            5000 non-null   int64  \n",
      " 6   power_kW                 5000 non-null   float64\n",
      " 7   torque_Nm                5000 non-null   float64\n",
      " 8   humidity_pct             5000 non-null   float64\n",
      " 9   oil_quality_score        5000 non-null   float64\n",
      " 10  load_weight_kg           5000 non-null   float64\n",
      " 11  cycle_time_sec           5000 non-null   float64\n",
      " 12  fan_speed_rpm            5000 non-null   float64\n",
      " 13  cooling_rate_C_sec       5000 non-null   float64\n",
      " 14  ambient_temp_C           5000 non-null   float64\n",
      " 15  gas_flow_m3_h            5000 non-null   float64\n",
      " 16  dust_level_index         5000 non-null   float64\n",
      " 17  sensor_faults            5000 non-null   int64  \n",
      " 18  voltage_fluctuation_pct  5000 non-null   float64\n",
      " 19  thermal_stress_index     5000 non-null   float64\n",
      " 20  maintenance_count        5000 non-null   int64  \n",
      " 21  failure_within_30d       5000 non-null   int64  \n",
      "dtypes: float64(14), int64(5), object(3)\n",
      "memory usage: 859.5+ KB\n"
     ]
    }
   ],
   "source": [
    "df.info()"
   ]
  },
  {
   "cell_type": "code",
   "execution_count": 29,
   "id": "fcfd1de8-3667-49e9-b6ae-14ebd06df2fb",
   "metadata": {},
   "outputs": [],
   "source": [
    "df.replace(\"?\", np.nan, inplace = True)"
   ]
  },
  {
   "cell_type": "code",
   "execution_count": 30,
   "id": "7c930ba1-ac5b-4181-9c4e-af2478c9aa51",
   "metadata": {},
   "outputs": [
    {
     "data": {
      "text/plain": [
       "temperature_C              28\n",
       "vibration_mm_s             20\n",
       "timestamp                   0\n",
       "machineID                   0\n",
       "pressure_bar                0\n",
       "runtime_hours               0\n",
       "power_kW                    0\n",
       "torque_Nm                   0\n",
       "humidity_pct                0\n",
       "oil_quality_score           0\n",
       "load_weight_kg              0\n",
       "cycle_time_sec              0\n",
       "fan_speed_rpm               0\n",
       "cooling_rate_C_sec          0\n",
       "ambient_temp_C              0\n",
       "gas_flow_m3_h               0\n",
       "dust_level_index            0\n",
       "sensor_faults               0\n",
       "voltage_fluctuation_pct     0\n",
       "thermal_stress_index        0\n",
       "maintenance_count           0\n",
       "failure_within_30d          0\n",
       "dtype: int64"
      ]
     },
     "execution_count": 30,
     "metadata": {},
     "output_type": "execute_result"
    }
   ],
   "source": [
    "df.isnull().sum().sort_values(ascending=False)"
   ]
  },
  {
   "cell_type": "code",
   "execution_count": 31,
   "id": "1da69087-b32c-4151-91bc-22d6fede9c3d",
   "metadata": {},
   "outputs": [],
   "source": [
    "df[\"temperature_C\"] = df[\"temperature_C\"].astype(float).fillna(df['temperature_C'].astype(float).mean())"
   ]
  },
  {
   "cell_type": "code",
   "execution_count": 32,
   "id": "d6a1d0a5-ef75-49ce-ac56-cf316c6f4649",
   "metadata": {},
   "outputs": [],
   "source": [
    "df[\"vibration_mm_s\"] = df[\"vibration_mm_s\"].astype(float).fillna(df[\"vibration_mm_s\"].astype(float).mean())"
   ]
  },
  {
   "cell_type": "code",
   "execution_count": 33,
   "id": "99311e9b-1d38-461c-9b65-098048a17a1f",
   "metadata": {},
   "outputs": [],
   "source": [
    "df['timestamp'] = pd.to_datetime(df['timestamp'])\n",
    "\n",
    "df['hour'] = df['timestamp'].dt.hour\n",
    "df['day_of_week'] = df['timestamp'].dt.dayofweek\n",
    "#df['month'] = df['timestamp'].dt.month\n",
    "df['is_weekend'] = df['day_of_week'].isin([5, 6]).astype(int)"
   ]
  },
  {
   "cell_type": "code",
   "execution_count": 34,
   "id": "54f17b6b-2b84-42c7-8e3f-21fa470a2ea6",
   "metadata": {},
   "outputs": [
    {
     "data": {
      "text/plain": [
       "count    5000.000000\n",
       "mean        0.196600\n",
       "std         0.438163\n",
       "min         0.000000\n",
       "25%         0.000000\n",
       "50%         0.000000\n",
       "75%         0.000000\n",
       "max         3.000000\n",
       "Name: sensor_faults, dtype: float64"
      ]
     },
     "execution_count": 34,
     "metadata": {},
     "output_type": "execute_result"
    }
   ],
   "source": [
    "df[\"sensor_faults\"].describe()"
   ]
  },
  {
   "cell_type": "code",
   "execution_count": 35,
   "id": "b9cf90d2-01af-4e6c-ae5e-dddfb0f7ad65",
   "metadata": {},
   "outputs": [
    {
     "data": {
      "text/html": [
       "<div>\n",
       "<style scoped>\n",
       "    .dataframe tbody tr th:only-of-type {\n",
       "        vertical-align: middle;\n",
       "    }\n",
       "\n",
       "    .dataframe tbody tr th {\n",
       "        vertical-align: top;\n",
       "    }\n",
       "\n",
       "    .dataframe thead th {\n",
       "        text-align: right;\n",
       "    }\n",
       "</style>\n",
       "<table border=\"1\" class=\"dataframe\">\n",
       "  <thead>\n",
       "    <tr style=\"text-align: right;\">\n",
       "      <th></th>\n",
       "      <th>machineID</th>\n",
       "      <th>timestamp</th>\n",
       "      <th>temperature_C</th>\n",
       "      <th>pressure_bar</th>\n",
       "      <th>vibration_mm_s</th>\n",
       "      <th>runtime_hours</th>\n",
       "      <th>power_kW</th>\n",
       "      <th>torque_Nm</th>\n",
       "      <th>humidity_pct</th>\n",
       "      <th>oil_quality_score</th>\n",
       "      <th>...</th>\n",
       "      <th>gas_flow_m3_h</th>\n",
       "      <th>dust_level_index</th>\n",
       "      <th>sensor_faults</th>\n",
       "      <th>voltage_fluctuation_pct</th>\n",
       "      <th>thermal_stress_index</th>\n",
       "      <th>maintenance_count</th>\n",
       "      <th>failure_within_30d</th>\n",
       "      <th>hour</th>\n",
       "      <th>day_of_week</th>\n",
       "      <th>is_weekend</th>\n",
       "    </tr>\n",
       "  </thead>\n",
       "  <tbody>\n",
       "    <tr>\n",
       "      <th>0</th>\n",
       "      <td>7</td>\n",
       "      <td>2023-04-22 09:19:00</td>\n",
       "      <td>54.260940</td>\n",
       "      <td>3.794329</td>\n",
       "      <td>0.713550</td>\n",
       "      <td>1385</td>\n",
       "      <td>197.533116</td>\n",
       "      <td>401.895893</td>\n",
       "      <td>61.901647</td>\n",
       "      <td>0.262071</td>\n",
       "      <td>...</td>\n",
       "      <td>67.365011</td>\n",
       "      <td>38.313966</td>\n",
       "      <td>0</td>\n",
       "      <td>1.145076</td>\n",
       "      <td>47.417483</td>\n",
       "      <td>6</td>\n",
       "      <td>1</td>\n",
       "      <td>9</td>\n",
       "      <td>5</td>\n",
       "      <td>1</td>\n",
       "    </tr>\n",
       "    <tr>\n",
       "      <th>1</th>\n",
       "      <td>20</td>\n",
       "      <td>2023-04-11 21:21:00</td>\n",
       "      <td>57.387574</td>\n",
       "      <td>5.395100</td>\n",
       "      <td>0.678126</td>\n",
       "      <td>1563</td>\n",
       "      <td>194.372373</td>\n",
       "      <td>361.162653</td>\n",
       "      <td>44.962107</td>\n",
       "      <td>0.766424</td>\n",
       "      <td>...</td>\n",
       "      <td>76.168426</td>\n",
       "      <td>55.404987</td>\n",
       "      <td>0</td>\n",
       "      <td>1.089491</td>\n",
       "      <td>61.129212</td>\n",
       "      <td>8</td>\n",
       "      <td>1</td>\n",
       "      <td>21</td>\n",
       "      <td>1</td>\n",
       "      <td>0</td>\n",
       "    </tr>\n",
       "    <tr>\n",
       "      <th>2</th>\n",
       "      <td>15</td>\n",
       "      <td>2023-05-05 15:55:00</td>\n",
       "      <td>77.591337</td>\n",
       "      <td>5.665597</td>\n",
       "      <td>0.628486</td>\n",
       "      <td>2291</td>\n",
       "      <td>173.281224</td>\n",
       "      <td>431.151665</td>\n",
       "      <td>57.022879</td>\n",
       "      <td>0.653272</td>\n",
       "      <td>...</td>\n",
       "      <td>84.735276</td>\n",
       "      <td>87.140786</td>\n",
       "      <td>0</td>\n",
       "      <td>1.408590</td>\n",
       "      <td>65.381609</td>\n",
       "      <td>2</td>\n",
       "      <td>1</td>\n",
       "      <td>15</td>\n",
       "      <td>4</td>\n",
       "      <td>0</td>\n",
       "    </tr>\n",
       "    <tr>\n",
       "      <th>3</th>\n",
       "      <td>11</td>\n",
       "      <td>2023-01-11 10:29:00</td>\n",
       "      <td>70.153327</td>\n",
       "      <td>3.403232</td>\n",
       "      <td>0.643890</td>\n",
       "      <td>2033</td>\n",
       "      <td>189.216414</td>\n",
       "      <td>389.741541</td>\n",
       "      <td>42.732718</td>\n",
       "      <td>0.945167</td>\n",
       "      <td>...</td>\n",
       "      <td>77.816550</td>\n",
       "      <td>54.772326</td>\n",
       "      <td>0</td>\n",
       "      <td>1.324168</td>\n",
       "      <td>57.307158</td>\n",
       "      <td>6</td>\n",
       "      <td>1</td>\n",
       "      <td>10</td>\n",
       "      <td>2</td>\n",
       "      <td>0</td>\n",
       "    </tr>\n",
       "    <tr>\n",
       "      <th>4</th>\n",
       "      <td>8</td>\n",
       "      <td>2023-05-27 04:35:00</td>\n",
       "      <td>68.800443</td>\n",
       "      <td>4.284320</td>\n",
       "      <td>0.677705</td>\n",
       "      <td>1927</td>\n",
       "      <td>138.813239</td>\n",
       "      <td>356.494690</td>\n",
       "      <td>60.025218</td>\n",
       "      <td>0.464947</td>\n",
       "      <td>...</td>\n",
       "      <td>79.121249</td>\n",
       "      <td>49.129455</td>\n",
       "      <td>1</td>\n",
       "      <td>1.322413</td>\n",
       "      <td>39.857238</td>\n",
       "      <td>6</td>\n",
       "      <td>1</td>\n",
       "      <td>4</td>\n",
       "      <td>5</td>\n",
       "      <td>1</td>\n",
       "    </tr>\n",
       "  </tbody>\n",
       "</table>\n",
       "<p>5 rows × 25 columns</p>\n",
       "</div>"
      ],
      "text/plain": [
       "   machineID           timestamp  temperature_C  pressure_bar  vibration_mm_s  \\\n",
       "0          7 2023-04-22 09:19:00      54.260940      3.794329        0.713550   \n",
       "1         20 2023-04-11 21:21:00      57.387574      5.395100        0.678126   \n",
       "2         15 2023-05-05 15:55:00      77.591337      5.665597        0.628486   \n",
       "3         11 2023-01-11 10:29:00      70.153327      3.403232        0.643890   \n",
       "4          8 2023-05-27 04:35:00      68.800443      4.284320        0.677705   \n",
       "\n",
       "   runtime_hours    power_kW   torque_Nm  humidity_pct  oil_quality_score  \\\n",
       "0           1385  197.533116  401.895893     61.901647           0.262071   \n",
       "1           1563  194.372373  361.162653     44.962107           0.766424   \n",
       "2           2291  173.281224  431.151665     57.022879           0.653272   \n",
       "3           2033  189.216414  389.741541     42.732718           0.945167   \n",
       "4           1927  138.813239  356.494690     60.025218           0.464947   \n",
       "\n",
       "   ...  gas_flow_m3_h  dust_level_index  sensor_faults  \\\n",
       "0  ...      67.365011         38.313966              0   \n",
       "1  ...      76.168426         55.404987              0   \n",
       "2  ...      84.735276         87.140786              0   \n",
       "3  ...      77.816550         54.772326              0   \n",
       "4  ...      79.121249         49.129455              1   \n",
       "\n",
       "   voltage_fluctuation_pct  thermal_stress_index  maintenance_count  \\\n",
       "0                 1.145076             47.417483                  6   \n",
       "1                 1.089491             61.129212                  8   \n",
       "2                 1.408590             65.381609                  2   \n",
       "3                 1.324168             57.307158                  6   \n",
       "4                 1.322413             39.857238                  6   \n",
       "\n",
       "   failure_within_30d  hour  day_of_week  is_weekend  \n",
       "0                   1     9            5           1  \n",
       "1                   1    21            1           0  \n",
       "2                   1    15            4           0  \n",
       "3                   1    10            2           0  \n",
       "4                   1     4            5           1  \n",
       "\n",
       "[5 rows x 25 columns]"
      ]
     },
     "execution_count": 35,
     "metadata": {},
     "output_type": "execute_result"
    }
   ],
   "source": [
    "df.head()"
   ]
  },
  {
   "cell_type": "code",
   "execution_count": 36,
   "id": "e7e181c0-535d-4e53-9e86-6cc2248d6c57",
   "metadata": {},
   "outputs": [],
   "source": [
    "scaler = StandardScaler()"
   ]
  },
  {
   "cell_type": "code",
   "execution_count": 37,
   "id": "1299c79b-c993-45fd-95f4-61eb4227c16a",
   "metadata": {},
   "outputs": [],
   "source": [
    "df.drop([\"timestamp\", \"machineID\"], axis = 1, inplace = True)"
   ]
  },
  {
   "cell_type": "code",
   "execution_count": 38,
   "id": "d71c004e-f8c9-4efc-b214-8112688f77e4",
   "metadata": {},
   "outputs": [
    {
     "data": {
      "text/plain": [
       "Index(['temperature_C', 'pressure_bar', 'vibration_mm_s', 'runtime_hours',\n",
       "       'power_kW', 'torque_Nm', 'humidity_pct', 'oil_quality_score',\n",
       "       'load_weight_kg', 'cycle_time_sec', 'fan_speed_rpm',\n",
       "       'cooling_rate_C_sec', 'ambient_temp_C', 'gas_flow_m3_h',\n",
       "       'dust_level_index', 'sensor_faults', 'voltage_fluctuation_pct',\n",
       "       'thermal_stress_index', 'maintenance_count', 'failure_within_30d',\n",
       "       'hour', 'day_of_week', 'is_weekend'],\n",
       "      dtype='object')"
      ]
     },
     "execution_count": 38,
     "metadata": {},
     "output_type": "execute_result"
    }
   ],
   "source": [
    "df.columns"
   ]
  },
  {
   "cell_type": "code",
   "execution_count": 39,
   "id": "6ac44d16-f3bd-458d-9f66-55df27d4dfc9",
   "metadata": {},
   "outputs": [],
   "source": [
    "scaler.fit(df.drop([\"failure_within_30d\"], axis = 1))\n",
    "features_scaled = scaler.transform(df.drop([\"failure_within_30d\"], axis = 1))"
   ]
  },
  {
   "cell_type": "code",
   "execution_count": 40,
   "id": "236ffa7c-01e5-4b8e-bf5d-c420c9940a89",
   "metadata": {},
   "outputs": [],
   "source": [
    "X = features_scaled\n",
    "y = df[\"failure_within_30d\"]\n",
    "\n",
    "X_train, X_test, y_train, y_test = train_test_split(X, y, test_size=0.3, random_state=42)"
   ]
  },
  {
   "cell_type": "code",
   "execution_count": 41,
   "id": "0e2d07a3-2bc4-43d7-8690-2313440ec160",
   "metadata": {},
   "outputs": [],
   "source": [
    "dt = DecisionTreeClassifier()\n",
    "dt.fit(X_train, y_train)\n",
    "dt_pred = dt.predict(X_test)"
   ]
  },
  {
   "cell_type": "code",
   "execution_count": 42,
   "id": "77d31136-1663-41ef-8227-d73c47eb50e2",
   "metadata": {},
   "outputs": [
    {
     "name": "stdout",
     "output_type": "stream",
     "text": [
      "[[ 175   80]\n",
      " [  92 1153]]\n",
      "              precision    recall  f1-score   support\n",
      "\n",
      "           0       0.66      0.69      0.67       255\n",
      "           1       0.94      0.93      0.93      1245\n",
      "\n",
      "    accuracy                           0.89      1500\n",
      "   macro avg       0.80      0.81      0.80      1500\n",
      "weighted avg       0.89      0.89      0.89      1500\n",
      "\n"
     ]
    }
   ],
   "source": [
    "print(confusion_matrix(y_test, dt_pred))\n",
    "print(classification_report(y_test, dt_pred))"
   ]
  },
  {
   "cell_type": "code",
   "execution_count": 43,
   "id": "56d8a303-426a-41b9-9fd6-ae7a7b4de720",
   "metadata": {},
   "outputs": [],
   "source": [
    "rfc = RandomForestClassifier(n_estimators = 200)\n",
    "rfc.fit(X_train, y_train)\n",
    "rfc_pred = rfc.predict(X_test)"
   ]
  },
  {
   "cell_type": "code",
   "execution_count": 44,
   "id": "a444bf99-a1e6-4614-9043-7a43562acb20",
   "metadata": {},
   "outputs": [
    {
     "name": "stdout",
     "output_type": "stream",
     "text": [
      "[[ 203   52]\n",
      " [  81 1164]]\n",
      "              precision    recall  f1-score   support\n",
      "\n",
      "           0       0.71      0.80      0.75       255\n",
      "           1       0.96      0.93      0.95      1245\n",
      "\n",
      "    accuracy                           0.91      1500\n",
      "   macro avg       0.84      0.87      0.85      1500\n",
      "weighted avg       0.92      0.91      0.91      1500\n",
      "\n"
     ]
    }
   ],
   "source": [
    "print(confusion_matrix(y_test, rfc_pred))\n",
    "print(classification_report(y_test, rfc_pred))"
   ]
  },
  {
   "cell_type": "code",
   "execution_count": 45,
   "id": "bd4e9473-0d7d-40fb-8aa3-51f35cc85515",
   "metadata": {},
   "outputs": [],
   "source": [
    "param_grid = {\n",
    "    'n_estimators': [100, 300],\n",
    "    'max_depth': [3, 6, 9],\n",
    "    'learning_rate': [0.01, 0.1],\n",
    "    'subsample': [0.8, 1.0],\n",
    "    'colsample_bytree': [0.8, 1.0]\n",
    "}\n"
   ]
  },
  {
   "cell_type": "code",
   "execution_count": 46,
   "id": "76011680-7381-48fe-8ee4-b428b2c970a8",
   "metadata": {},
   "outputs": [
    {
     "name": "stdout",
     "output_type": "stream",
     "text": [
      "Fitting 5 folds for each of 48 candidates, totalling 240 fits\n"
     ]
    },
    {
     "name": "stderr",
     "output_type": "stream",
     "text": [
      "C:\\Users\\kamde\\AppData\\Local\\Packages\\PythonSoftwareFoundation.Python.3.11_qbz5n2kfra8p0\\LocalCache\\local-packages\\Python311\\site-packages\\xgboost\\training.py:199: UserWarning: [10:46:47] WARNING: C:\\actions-runner\\_work\\xgboost\\xgboost\\src\\learner.cc:790: \n",
      "Parameters: { \"use_label_encoder\" } are not used.\n",
      "\n",
      "  bst.update(dtrain, iteration=i, fobj=obj)\n"
     ]
    }
   ],
   "source": [
    "xgb = XGBClassifier(use_label_encoder=False, eval_metric=\"logloss\")\n",
    "\n",
    "grid_search = GridSearchCV(estimator = xgb, \n",
    "                        param_grid=param_grid,\n",
    "                        scoring='f1_weighted',\n",
    "                        cv=5,\n",
    "                        verbose=2,\n",
    "                        n_jobs=-1)\n",
    "grid_search.fit(X_train, y_train)\n",
    "best_model = grid_search.best_estimator_\n",
    "    "
   ]
  },
  {
   "cell_type": "code",
   "execution_count": 47,
   "id": "20e32abf-869d-4ec9-9467-90b72fd0507c",
   "metadata": {},
   "outputs": [],
   "source": [
    "tuned_pred = best_model.predict(X_test)"
   ]
  },
  {
   "cell_type": "code",
   "execution_count": 48,
   "id": "875b30ce-4cbe-4571-8239-f9177d1f30b4",
   "metadata": {},
   "outputs": [
    {
     "name": "stdout",
     "output_type": "stream",
     "text": [
      "[[ 200   55]\n",
      " [  86 1159]]\n",
      "              precision    recall  f1-score   support\n",
      "\n",
      "           0       0.70      0.78      0.74       255\n",
      "           1       0.95      0.93      0.94      1245\n",
      "\n",
      "    accuracy                           0.91      1500\n",
      "   macro avg       0.83      0.86      0.84      1500\n",
      "weighted avg       0.91      0.91      0.91      1500\n",
      "\n"
     ]
    }
   ],
   "source": [
    "print(confusion_matrix(y_test, tuned_pred))\n",
    "print(classification_report(y_test, tuned_pred))"
   ]
  },
  {
   "cell_type": "code",
   "execution_count": 54,
   "id": "5e7418f0-e0c7-4514-99b6-9771e88e3a84",
   "metadata": {},
   "outputs": [
    {
     "data": {
      "image/png": "[encoded data removed]",
      "text/plain": [
       "<Figure size 800x600 with 1 Axes>"
      ]
     },
     "metadata": {},
     "output_type": "display_data"
    }
   ],
   "source": [
    "importances = best_model.feature_importances_\n",
    "feature_names = df.columns\n",
    "\n",
    "indices = np.argsort(importances)[::-1]\n",
    "\n",
    "plt.figure(figsize=(8, 6))\n",
    "plt.title(\"Feature Importance\")\n",
    "plt.barh(range(15), importances[indices[:15]][::-1])\n",
    "plt.yticks(range(15), [feature_names[i] for i in indices[:15]][::-1])\n",
    "plt.xlabel(\"Importance\")\n",
    "plt.gca().invert_yaxis()\n",
    "plt.show()"
   ]
  },
  {
   "cell_type": "code",
   "execution_count": null,
   "id": "b56a12f1-28ed-4a57-a2ea-73cd4bbf845e",
   "metadata": {},
   "outputs": [],
   "source": []
  }
 ],
 "metadata": {
  "kernelspec": {
   "display_name": "Python 3 (ipykernel)",
   "language": "python",
   "name": "python3"
  },
  "language_info": {
   "codemirror_mode": {
    "name": "ipython",
    "version": 3
   },
   "file_extension": ".py",
   "mimetype": "text/x-python",
   "name": "python",
   "nbconvert_exporter": "python",
   "pygments_lexer": "ipython3",
   "version": "3.11.9"
  }
 },
 "nbformat": 4,
 "nbformat_minor": 5
}
